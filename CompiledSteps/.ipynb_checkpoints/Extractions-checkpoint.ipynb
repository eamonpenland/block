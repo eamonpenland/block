{
 "cells": [
  {
   "cell_type": "code",
   "execution_count": 11,
   "metadata": {},
   "outputs": [],
   "source": [
    "from bs4 import BeautifulSoup as soup\n",
    "from bs4 import BeautifulSoup as Beautifulsoup\n",
    "import requests"
   ]
  },
  {
   "cell_type": "markdown",
   "metadata": {},
   "source": [
    "np.set _printoptions, \n",
    "mport numpy as np\n",
    "import pandas as pd\n",
    "import scipy as spy\n",
    "#from spy.cluster.hierarchy import dendrogram, linkage\n",
    "#from spy.cluster.heirarchy import fcluster\n",
    "#from spy.cluster.heirarchy import cophenet \n",
    "#from spy.cluster.distance import dist\n",
    "\n",
    "\n",
    "\n",
    "from pylab import reparams\n",
    "import seaborn as sb\n",
    "import matplotlin.pyplo as plt\n",
    "\n",
    "\n",
    "import sklearn\n",
    "from sklearn.cluster import AgglomerativeClustering\n",
    "import sklearn.metrics as sm\n",
    " soup.findAll(\"a\", {\"class\": \"hash-tag text-truncate\"})\n",
    " \n",
    " page2 = requests.get(\"https://etherscan.io/contractsVerified/2?ps=100\")\n",
    "page"
   ]
  },
  {
   "cell_type": "markdown",
   "metadata": {},
   "source": [
    "\n",
    "import urllib2\n",
    "import re\n",
    " \n",
    "def getLinks(url):\n",
    "    html_page = urllib2.urlopen(url)\n",
    "    soup = BeautifulSoup(html_page)\n",
    "    links = []\n",
    " \n",
    "    for link in soup.findAll('a', attrs={'href': re.compile(\"^http://\")}):\n",
    "        links.append(link.get('href'))\n",
    " \n",
    "    return links\n",
    " \n",
    "print( getLinks(\"https://etherscan.io/contractsVerified\") )"
   ]
  },
  {
   "cell_type": "markdown",
   "metadata": {},
   "source": [
    "soup = BeautifulSoup(page.content, 'html.parser')\n",
    "import urllib2\n",
    "import re\n",
    "\n",
    "\n",
    "\n",
    "for link in soup.findAll('a', attrs={'href': re.compile(\"^http://\")}):\n",
    "    print link.get('href')\n",
    "for link in soup.findAll('a', attrs={'href': re.compile(\"^http://\")}):\n",
    "    print link.get('href')\n",
    "    \n",
    "    \n",
    "    "
   ]
  },
  {
   "cell_type": "code",
   "execution_count": 35,
   "metadata": {},
   "outputs": [
    {
     "data": {
      "text/plain": [
       "<Response [200]>"
      ]
     },
     "execution_count": 35,
     "metadata": {},
     "output_type": "execute_result"
    }
   ],
   "source": [
    "page = requests.get(\"https://etherscan.io/contractsVerified\")\n",
    "page\n"
   ]
  },
  {
   "cell_type": "code",
   "execution_count": 36,
   "metadata": {},
   "outputs": [],
   "source": [
    "#creating object\n",
    "soup = soup(page.text, 'html.parser')"
   ]
  },
  {
   "cell_type": "code",
   "execution_count": 14,
   "metadata": {},
   "outputs": [
    {
     "data": {
      "text/plain": [
       "[<a class=\"hash-tag text-truncate\" href=\"/address/0x850c79cbf2360bff612e878fe8e9bcce5b265609#code\">0x850c79cbf2360bff612e878fe8e9bcce5b265609</a>,\n",
       " <a class=\"hash-tag text-truncate\" href=\"/address/0xe651763f0138232a67303e3eda57c9328ea66e3d#code\">0xe651763f0138232a67303e3eda57c9328ea66e3d</a>,\n",
       " <a class=\"hash-tag text-truncate\" href=\"/address/0x0dF53a6946b21146A817c8C9e4792Dc442BBded2#code\">0x0dF53a6946b21146A817c8C9e4792Dc442BBded2</a>,\n",
       " <a class=\"hash-tag text-truncate\" href=\"/address/0x83876b489e6be4d37ff6a20be85910f3f55f069c#code\">0x83876b489e6be4d37ff6a20be85910f3f55f069c</a>,\n",
       " <a class=\"hash-tag text-truncate\" href=\"/address/0xff2fb7d78f39fd37ee56552c76da4074d20d8fc9#code\">0xff2fb7d78f39fd37ee56552c76da4074d20d8fc9</a>,\n",
       " <a class=\"hash-tag text-truncate\" href=\"/address/0x6cb74271f2f817a89096ee150ec0ac57c4c24d34#code\">0x6cb74271f2f817a89096ee150ec0ac57c4c24d34</a>,\n",
       " <a class=\"hash-tag text-truncate\" href=\"/address/0x595a47e57b3ec34031429d2abf9c941e4e3a8d99#code\">0x595a47e57b3ec34031429d2abf9c941e4e3a8d99</a>,\n",
       " <a class=\"hash-tag text-truncate\" href=\"/address/0x5690a8a6b3a2bb394b709fb678a61bfc369f2c4e#code\">0x5690a8a6b3a2bb394b709fb678a61bfc369f2c4e</a>,\n",
       " <a class=\"hash-tag text-truncate\" href=\"/address/0xb4513ee30d5fc6a9b2b707934b7eb2e83a9c1ef1#code\">0xb4513ee30d5fc6a9b2b707934b7eb2e83a9c1ef1</a>,\n",
       " <a class=\"hash-tag text-truncate\" href=\"/address/0x9ffdfdfe44a0d101e165f4190d80e98c3b8bf079#code\">0x9ffdfdfe44a0d101e165f4190d80e98c3b8bf079</a>,\n",
       " <a class=\"hash-tag text-truncate\" href=\"/address/0x5f81f78b9d5549de7fb024ea66361e0326ce8f03#code\">0x5f81f78b9d5549de7fb024ea66361e0326ce8f03</a>,\n",
       " <a class=\"hash-tag text-truncate\" href=\"/address/0x05aa942ba2c382665162e88117b5263df57721f4#code\">0x05aa942ba2c382665162e88117b5263df57721f4</a>,\n",
       " <a class=\"hash-tag text-truncate\" href=\"/address/0x1774e30a3daab7bbace3ce4c64ddc6a4f29a975a#code\">0x1774e30a3daab7bbace3ce4c64ddc6a4f29a975a</a>,\n",
       " <a class=\"hash-tag text-truncate\" href=\"/address/0x0b44547be0a0df5dcd5327de8ea73680517c5a54#code\">0x0b44547be0a0df5dcd5327de8ea73680517c5a54</a>,\n",
       " <a class=\"hash-tag text-truncate\" href=\"/address/0x232e16a8663648d5b837ec04ecdfcfeec80dab35#code\">0x232e16a8663648d5b837ec04ecdfcfeec80dab35</a>,\n",
       " <a class=\"hash-tag text-truncate\" href=\"/address/0x379e294ac06e1b9955ca09ada871879687be3c0c#code\">0x379e294ac06e1b9955ca09ada871879687be3c0c</a>,\n",
       " <a class=\"hash-tag text-truncate\" href=\"/address/0xa9d6123de120ccb3277fa7ebb57cb375b1c1e838#code\">0xa9d6123de120ccb3277fa7ebb57cb375b1c1e838</a>,\n",
       " <a class=\"hash-tag text-truncate\" href=\"/address/0x1044d3EFaD9a9bAd4e77a1C0C86bc53636dA0345#code\">0x1044d3EFaD9a9bAd4e77a1C0C86bc53636dA0345</a>,\n",
       " <a class=\"hash-tag text-truncate\" href=\"/address/0xc00bc14f555e48a37c81c95e5e0cdf5ee3c89548#code\">0xc00bc14f555e48a37c81c95e5e0cdf5ee3c89548</a>,\n",
       " <a class=\"hash-tag text-truncate\" href=\"/address/0xfdeaa4ab9fea519afd74df2257a21e5bca0dfd3f#code\">0xfdeaa4ab9fea519afd74df2257a21e5bca0dfd3f</a>,\n",
       " <a class=\"hash-tag text-truncate\" href=\"/address/0x7a458fc5e15e671eb22d00696aa7cfd961d302e2#code\">0x7a458fc5e15e671eb22d00696aa7cfd961d302e2</a>,\n",
       " <a class=\"hash-tag text-truncate\" href=\"/address/0x32df312c23bb80de4f71589ab58b8b779188995e#code\">0x32df312c23bb80de4f71589ab58b8b779188995e</a>,\n",
       " <a class=\"hash-tag text-truncate\" href=\"/address/0x64cb9b3137e9342c3bd3372e6e169dc7fcade52f#code\">0x64cb9b3137e9342c3bd3372e6e169dc7fcade52f</a>,\n",
       " <a class=\"hash-tag text-truncate\" href=\"/address/0x44744e3e608d1243f55008b328fe1b09bd42e4cc#code\">0x44744e3e608d1243f55008b328fe1b09bd42e4cc</a>,\n",
       " <a class=\"hash-tag text-truncate\" href=\"/address/0x9a747922df4d6e9301b5b18b927f6d7ff556710d#code\">0x9a747922df4d6e9301b5b18b927f6d7ff556710d</a>]"
      ]
     },
     "execution_count": 14,
     "metadata": {},
     "output_type": "execute_result"
    }
   ],
   "source": [
    "soup.findAll(\"a\", {\"class\": \"hash-tag text-truncate\"})"
   ]
  },
  {
   "cell_type": "markdown",
   "metadata": {},
   "source": [
    "page.content"
   ]
  },
  {
   "cell_type": "code",
   "execution_count": 15,
   "metadata": {},
   "outputs": [
    {
     "name": "stdout",
     "output_type": "stream",
     "text": [
      "<a class=\"hash-tag text-truncate\" href=\"/address/0x850c79cbf2360bff612e878fe8e9bcce5b265609#code\">\n",
      " 0x850c79cbf2360bff612e878fe8e9bcce5b265609\n",
      "</a>\n",
      "<a class=\"hash-tag text-truncate\" href=\"/address/0xe651763f0138232a67303e3eda57c9328ea66e3d#code\">\n",
      " 0xe651763f0138232a67303e3eda57c9328ea66e3d\n",
      "</a>\n",
      "<a class=\"hash-tag text-truncate\" href=\"/address/0x0dF53a6946b21146A817c8C9e4792Dc442BBded2#code\">\n",
      " 0x0dF53a6946b21146A817c8C9e4792Dc442BBded2\n",
      "</a>\n",
      "<a class=\"hash-tag text-truncate\" href=\"/address/0x83876b489e6be4d37ff6a20be85910f3f55f069c#code\">\n",
      " 0x83876b489e6be4d37ff6a20be85910f3f55f069c\n",
      "</a>\n",
      "<a class=\"hash-tag text-truncate\" href=\"/address/0xff2fb7d78f39fd37ee56552c76da4074d20d8fc9#code\">\n",
      " 0xff2fb7d78f39fd37ee56552c76da4074d20d8fc9\n",
      "</a>\n",
      "<a class=\"hash-tag text-truncate\" href=\"/address/0x6cb74271f2f817a89096ee150ec0ac57c4c24d34#code\">\n",
      " 0x6cb74271f2f817a89096ee150ec0ac57c4c24d34\n",
      "</a>\n",
      "<a class=\"hash-tag text-truncate\" href=\"/address/0x595a47e57b3ec34031429d2abf9c941e4e3a8d99#code\">\n",
      " 0x595a47e57b3ec34031429d2abf9c941e4e3a8d99\n",
      "</a>\n",
      "<a class=\"hash-tag text-truncate\" href=\"/address/0x5690a8a6b3a2bb394b709fb678a61bfc369f2c4e#code\">\n",
      " 0x5690a8a6b3a2bb394b709fb678a61bfc369f2c4e\n",
      "</a>\n",
      "<a class=\"hash-tag text-truncate\" href=\"/address/0xb4513ee30d5fc6a9b2b707934b7eb2e83a9c1ef1#code\">\n",
      " 0xb4513ee30d5fc6a9b2b707934b7eb2e83a9c1ef1\n",
      "</a>\n",
      "<a class=\"hash-tag text-truncate\" href=\"/address/0x9ffdfdfe44a0d101e165f4190d80e98c3b8bf079#code\">\n",
      " 0x9ffdfdfe44a0d101e165f4190d80e98c3b8bf079\n",
      "</a>\n",
      "<a class=\"hash-tag text-truncate\" href=\"/address/0x5f81f78b9d5549de7fb024ea66361e0326ce8f03#code\">\n",
      " 0x5f81f78b9d5549de7fb024ea66361e0326ce8f03\n",
      "</a>\n",
      "<a class=\"hash-tag text-truncate\" href=\"/address/0x05aa942ba2c382665162e88117b5263df57721f4#code\">\n",
      " 0x05aa942ba2c382665162e88117b5263df57721f4\n",
      "</a>\n",
      "<a class=\"hash-tag text-truncate\" href=\"/address/0x1774e30a3daab7bbace3ce4c64ddc6a4f29a975a#code\">\n",
      " 0x1774e30a3daab7bbace3ce4c64ddc6a4f29a975a\n",
      "</a>\n",
      "<a class=\"hash-tag text-truncate\" href=\"/address/0x0b44547be0a0df5dcd5327de8ea73680517c5a54#code\">\n",
      " 0x0b44547be0a0df5dcd5327de8ea73680517c5a54\n",
      "</a>\n",
      "<a class=\"hash-tag text-truncate\" href=\"/address/0x232e16a8663648d5b837ec04ecdfcfeec80dab35#code\">\n",
      " 0x232e16a8663648d5b837ec04ecdfcfeec80dab35\n",
      "</a>\n",
      "<a class=\"hash-tag text-truncate\" href=\"/address/0x379e294ac06e1b9955ca09ada871879687be3c0c#code\">\n",
      " 0x379e294ac06e1b9955ca09ada871879687be3c0c\n",
      "</a>\n",
      "<a class=\"hash-tag text-truncate\" href=\"/address/0xa9d6123de120ccb3277fa7ebb57cb375b1c1e838#code\">\n",
      " 0xa9d6123de120ccb3277fa7ebb57cb375b1c1e838\n",
      "</a>\n",
      "<a class=\"hash-tag text-truncate\" href=\"/address/0x1044d3EFaD9a9bAd4e77a1C0C86bc53636dA0345#code\">\n",
      " 0x1044d3EFaD9a9bAd4e77a1C0C86bc53636dA0345\n",
      "</a>\n",
      "<a class=\"hash-tag text-truncate\" href=\"/address/0xc00bc14f555e48a37c81c95e5e0cdf5ee3c89548#code\">\n",
      " 0xc00bc14f555e48a37c81c95e5e0cdf5ee3c89548\n",
      "</a>\n",
      "<a class=\"hash-tag text-truncate\" href=\"/address/0xfdeaa4ab9fea519afd74df2257a21e5bca0dfd3f#code\">\n",
      " 0xfdeaa4ab9fea519afd74df2257a21e5bca0dfd3f\n",
      "</a>\n",
      "<a class=\"hash-tag text-truncate\" href=\"/address/0x7a458fc5e15e671eb22d00696aa7cfd961d302e2#code\">\n",
      " 0x7a458fc5e15e671eb22d00696aa7cfd961d302e2\n",
      "</a>\n",
      "<a class=\"hash-tag text-truncate\" href=\"/address/0x32df312c23bb80de4f71589ab58b8b779188995e#code\">\n",
      " 0x32df312c23bb80de4f71589ab58b8b779188995e\n",
      "</a>\n",
      "<a class=\"hash-tag text-truncate\" href=\"/address/0x64cb9b3137e9342c3bd3372e6e169dc7fcade52f#code\">\n",
      " 0x64cb9b3137e9342c3bd3372e6e169dc7fcade52f\n",
      "</a>\n",
      "<a class=\"hash-tag text-truncate\" href=\"/address/0x44744e3e608d1243f55008b328fe1b09bd42e4cc#code\">\n",
      " 0x44744e3e608d1243f55008b328fe1b09bd42e4cc\n",
      "</a>\n",
      "<a class=\"hash-tag text-truncate\" href=\"/address/0x9a747922df4d6e9301b5b18b927f6d7ff556710d#code\">\n",
      " 0x9a747922df4d6e9301b5b18b927f6d7ff556710d\n",
      "</a>\n"
     ]
    }
   ],
   "source": [
    "sc_list = soup.find(class_=\"table-responsive mb-2 mb-md-0\")\n",
    "sc_list_items = sc_list.find_all('a')\n",
    "\n",
    "for s_c in sc_list_items:\n",
    "    print(s_c.prettify())"
   ]
  },
  {
   "cell_type": "code",
   "execution_count": 16,
   "metadata": {},
   "outputs": [
    {
     "name": "stdout",
     "output_type": "stream",
     "text": [
      "0x850c79cbf2360bff612e878fe8e9bcce5b265609\n",
      "https://etherscan.io/contractsVerified/1?ps=100/address/0x850c79cbf2360bff612e878fe8e9bcce5b265609#code\n",
      "0xe651763f0138232a67303e3eda57c9328ea66e3d\n",
      "https://etherscan.io/contractsVerified/1?ps=100/address/0xe651763f0138232a67303e3eda57c9328ea66e3d#code\n",
      "0x0dF53a6946b21146A817c8C9e4792Dc442BBded2\n",
      "https://etherscan.io/contractsVerified/1?ps=100/address/0x0dF53a6946b21146A817c8C9e4792Dc442BBded2#code\n",
      "0x83876b489e6be4d37ff6a20be85910f3f55f069c\n",
      "https://etherscan.io/contractsVerified/1?ps=100/address/0x83876b489e6be4d37ff6a20be85910f3f55f069c#code\n",
      "0xff2fb7d78f39fd37ee56552c76da4074d20d8fc9\n",
      "https://etherscan.io/contractsVerified/1?ps=100/address/0xff2fb7d78f39fd37ee56552c76da4074d20d8fc9#code\n",
      "0x6cb74271f2f817a89096ee150ec0ac57c4c24d34\n",
      "https://etherscan.io/contractsVerified/1?ps=100/address/0x6cb74271f2f817a89096ee150ec0ac57c4c24d34#code\n",
      "0x595a47e57b3ec34031429d2abf9c941e4e3a8d99\n",
      "https://etherscan.io/contractsVerified/1?ps=100/address/0x595a47e57b3ec34031429d2abf9c941e4e3a8d99#code\n",
      "0x5690a8a6b3a2bb394b709fb678a61bfc369f2c4e\n",
      "https://etherscan.io/contractsVerified/1?ps=100/address/0x5690a8a6b3a2bb394b709fb678a61bfc369f2c4e#code\n",
      "0xb4513ee30d5fc6a9b2b707934b7eb2e83a9c1ef1\n",
      "https://etherscan.io/contractsVerified/1?ps=100/address/0xb4513ee30d5fc6a9b2b707934b7eb2e83a9c1ef1#code\n",
      "0x9ffdfdfe44a0d101e165f4190d80e98c3b8bf079\n",
      "https://etherscan.io/contractsVerified/1?ps=100/address/0x9ffdfdfe44a0d101e165f4190d80e98c3b8bf079#code\n",
      "0x5f81f78b9d5549de7fb024ea66361e0326ce8f03\n",
      "https://etherscan.io/contractsVerified/1?ps=100/address/0x5f81f78b9d5549de7fb024ea66361e0326ce8f03#code\n",
      "0x05aa942ba2c382665162e88117b5263df57721f4\n",
      "https://etherscan.io/contractsVerified/1?ps=100/address/0x05aa942ba2c382665162e88117b5263df57721f4#code\n",
      "0x1774e30a3daab7bbace3ce4c64ddc6a4f29a975a\n",
      "https://etherscan.io/contractsVerified/1?ps=100/address/0x1774e30a3daab7bbace3ce4c64ddc6a4f29a975a#code\n",
      "0x0b44547be0a0df5dcd5327de8ea73680517c5a54\n",
      "https://etherscan.io/contractsVerified/1?ps=100/address/0x0b44547be0a0df5dcd5327de8ea73680517c5a54#code\n",
      "0x232e16a8663648d5b837ec04ecdfcfeec80dab35\n",
      "https://etherscan.io/contractsVerified/1?ps=100/address/0x232e16a8663648d5b837ec04ecdfcfeec80dab35#code\n",
      "0x379e294ac06e1b9955ca09ada871879687be3c0c\n",
      "https://etherscan.io/contractsVerified/1?ps=100/address/0x379e294ac06e1b9955ca09ada871879687be3c0c#code\n",
      "0xa9d6123de120ccb3277fa7ebb57cb375b1c1e838\n",
      "https://etherscan.io/contractsVerified/1?ps=100/address/0xa9d6123de120ccb3277fa7ebb57cb375b1c1e838#code\n",
      "0x1044d3EFaD9a9bAd4e77a1C0C86bc53636dA0345\n",
      "https://etherscan.io/contractsVerified/1?ps=100/address/0x1044d3EFaD9a9bAd4e77a1C0C86bc53636dA0345#code\n",
      "0xc00bc14f555e48a37c81c95e5e0cdf5ee3c89548\n",
      "https://etherscan.io/contractsVerified/1?ps=100/address/0xc00bc14f555e48a37c81c95e5e0cdf5ee3c89548#code\n",
      "0xfdeaa4ab9fea519afd74df2257a21e5bca0dfd3f\n",
      "https://etherscan.io/contractsVerified/1?ps=100/address/0xfdeaa4ab9fea519afd74df2257a21e5bca0dfd3f#code\n",
      "0x7a458fc5e15e671eb22d00696aa7cfd961d302e2\n",
      "https://etherscan.io/contractsVerified/1?ps=100/address/0x7a458fc5e15e671eb22d00696aa7cfd961d302e2#code\n",
      "0x32df312c23bb80de4f71589ab58b8b779188995e\n",
      "https://etherscan.io/contractsVerified/1?ps=100/address/0x32df312c23bb80de4f71589ab58b8b779188995e#code\n",
      "0x64cb9b3137e9342c3bd3372e6e169dc7fcade52f\n",
      "https://etherscan.io/contractsVerified/1?ps=100/address/0x64cb9b3137e9342c3bd3372e6e169dc7fcade52f#code\n",
      "0x44744e3e608d1243f55008b328fe1b09bd42e4cc\n",
      "https://etherscan.io/contractsVerified/1?ps=100/address/0x44744e3e608d1243f55008b328fe1b09bd42e4cc#code\n",
      "0x9a747922df4d6e9301b5b18b927f6d7ff556710d\n",
      "https://etherscan.io/contractsVerified/1?ps=100/address/0x9a747922df4d6e9301b5b18b927f6d7ff556710d#code\n"
     ]
    }
   ],
   "source": [
    "#names = s_c.contents[0]\n",
    "#print(names)\n",
    "\n",
    "\n",
    "for s_c in sc_list_items:\n",
    "    names = s_c.contents[0]\n",
    "    links = 'https://etherscan.io/contractsVerified/1?ps=100' + s_c.get('href')\n",
    "    print(names)\n",
    "    print(links)"
   ]
  },
  {
   "cell_type": "code",
   "execution_count": 28,
   "metadata": {},
   "outputs": [],
   "source": [
    "for s_c in sc_list_items:\n",
    "    names = s_c.contents[0]\n",
    "    links = 'https://etherscan.io/contractsVerified/1?ps=100' + s_c.get('href')\n",
    "    \n",
    "    sc1.writerow([names, links])"
   ]
  },
  {
   "cell_type": "code",
   "execution_count": 29,
   "metadata": {},
   "outputs": [],
   "source": [
    "import csv \n",
    "sc1 = csv.writer(open('s-c-names_1k.csv', 'w'))\n",
    "sc1.writerow(['Name', 'Link'])"
   ]
  },
  {
   "cell_type": "code",
   "execution_count": 30,
   "metadata": {},
   "outputs": [],
   "source": [
    "pages = []"
   ]
  },
  {
   "cell_type": "code",
   "execution_count": 31,
   "metadata": {},
   "outputs": [],
   "source": [
    "for i in range(1, 10):\n",
    "    url = 'https://etherscan.io/contractsVerified/' + str(i) + '?ps=100'\n",
    "    pages.append(url)\n",
    "\n",
    "\n",
    "for item in pages:\n",
    "    page = requests.get(item)\n",
    "    soup = Beautifulsoup(page.text, 'html.parser')\n",
    "\n",
    "sc_list = soup.find(class_=\"table-responsive mb-2 mb-md-0\")\n",
    "sc_list_items = sc_list.findAll('a')\n",
    "\n",
    "for s_c in sc_list_items:\n",
    "    names = s_c.contents[0]\n",
    "    links = 'https://etherscan.io/contractsVerified' + s_c.get('href')\n",
    "\n",
    "    sc1.writerow([names, links])"
   ]
  },
  {
   "cell_type": "code",
   "execution_count": 34,
   "metadata": {},
   "outputs": [
    {
     "ename": "SyntaxError",
     "evalue": "invalid syntax (<ipython-input-34-0fc061689fa1>, line 4)",
     "output_type": "error",
     "traceback": [
      "\u001b[0;36m  File \u001b[0;32m\"<ipython-input-34-0fc061689fa1>\"\u001b[0;36m, line \u001b[0;32m4\u001b[0m\n\u001b[0;31m    cat s-c-names_1k.csv | cut -d ',' -f3\u001b[0m\n\u001b[0m        ^\u001b[0m\n\u001b[0;31mSyntaxError\u001b[0m\u001b[0;31m:\u001b[0m invalid syntax\n"
     ]
    }
   ],
   "source": [
    "import pandas as pd\n",
    "byte = pd.read_csv('s-c-names_1k.csv')\n",
    "\n",
    "\n"
   ]
  },
  {
   "cell_type": "code",
   "execution_count": 37,
   "metadata": {},
   "outputs": [
    {
     "ename": "SyntaxError",
     "evalue": "unexpected EOF while parsing (<ipython-input-37-5c052ee8c68c>, line 1)",
     "output_type": "error",
     "traceback": [
      "\u001b[0;36m  File \u001b[0;32m\"<ipython-input-37-5c052ee8c68c>\"\u001b[0;36m, line \u001b[0;32m1\u001b[0m\n\u001b[0;31m    for x in l:\u001b[0m\n\u001b[0m               ^\u001b[0m\n\u001b[0;31mSyntaxError\u001b[0m\u001b[0;31m:\u001b[0m unexpected EOF while parsing\n"
     ]
    }
   ],
   "source": [
    "for x in byte:\n",
    "    current_page = requests.get(x[1])\n",
    "    current_soup = soup(current_page.text, 'html.parser')"
   ]
  },
  {
   "cell_type": "code",
   "execution_count": null,
   "metadata": {},
   "outputs": [],
   "source": []
  }
 ],
 "metadata": {
  "kernelspec": {
   "display_name": "Python 2",
   "language": "python",
   "name": "python2"
  },
  "language_info": {
   "codemirror_mode": {
    "name": "ipython",
    "version": 2
   },
   "file_extension": ".py",
   "mimetype": "text/x-python",
   "name": "python",
   "nbconvert_exporter": "python",
   "pygments_lexer": "ipython2",
   "version": "2.7.14"
  }
 },
 "nbformat": 4,
 "nbformat_minor": 2
}
